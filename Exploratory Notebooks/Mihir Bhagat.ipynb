{
 "cells": [
  {
   "cell_type": "code",
   "execution_count": 308,
   "metadata": {},
   "outputs": [],
   "source": [
    "#Import Libraries\n",
    "\n",
    "import sqlite3\n",
    "import numpy as np \n",
    "import pandas as pd \n",
    "import pandasql as ps\n",
    "import matplotlib.pyplot as plt\n",
    "import seaborn as sns\n",
    "import statsmodels.api as sm\n",
    "from sklearn.preprocessing import OneHotEncoder\n",
    "from sklearn.preprocessing import LabelEncoder\n",
    "\n",
    "from sklearn.model_selection import train_test_split, cross_val_score\n",
    "from sklearn.linear_model import LinearRegression"
   ]
  },
  {
   "cell_type": "code",
   "execution_count": 218,
   "metadata": {},
   "outputs": [
    {
     "name": "stderr",
     "output_type": "stream",
     "text": [
      "/Users/mihirbhagat/opt/anaconda3/lib/python3.7/site-packages/IPython/core/interactiveshell.py:3051: DtypeWarning: Columns (1,2) have mixed types.Specify dtype option on import or set low_memory=False.\n",
      "  interactivity=interactivity, compiler=compiler, result=result)\n",
      "/Users/mihirbhagat/opt/anaconda3/lib/python3.7/site-packages/IPython/core/interactiveshell.py:3051: DtypeWarning: Columns (11) have mixed types.Specify dtype option on import or set low_memory=False.\n",
      "  interactivity=interactivity, compiler=compiler, result=result)\n"
     ]
    }
   ],
   "source": [
    "#Load data into DataFrames\n",
    "\n",
    "df_sales = pd.read_csv('../Data/EXTR_RPSale.csv')\n",
    "df_res = pd.read_csv('../Data/EXTR_ResBldg.csv')\n",
    "df_lookup = pd.read_csv('../Data/EXTR_LookUp.csv')\n",
    "df_parcel = pd.read_csv('../Data/EXTR_Parcel.csv', encoding='latin-1')"
   ]
  },
  {
   "cell_type": "code",
   "execution_count": 310,
   "metadata": {},
   "outputs": [],
   "source": [
    "#Create 'Year' and 'MajorMinor' columns in df_sales\n",
    "\n",
    "df_sales['year'] = pd.DatetimeIndex(df_sales['DocumentDate']).year\n",
    "df_sales['Major'] = df_sales['Major'].astype(str)\n",
    "df_sales['Minor'] = df_sales['Minor'].astype(str)\n",
    "df_sales['MajorMinor'] = df_sales['Major'] + '-' + df_sales['Minor']"
   ]
  },
  {
   "cell_type": "code",
   "execution_count": 311,
   "metadata": {
    "scrolled": true
   },
   "outputs": [],
   "source": [
    "#Filter for 2019 \n",
    "\n",
    "df_sales_19 = df_sales[df_sales['year']==2019]"
   ]
  },
  {
   "cell_type": "code",
   "execution_count": 312,
   "metadata": {},
   "outputs": [],
   "source": [
    "#Filter for PropertyType and SalePrice \n",
    "\n",
    "q1 = (\"\"\"SELECT * FROM df_sales_19\n",
    "WHERE (PropertyType = 11 or PropertyType = 12 or PropertyType = 13 or PropertyType = 14) and SalePrice > 0\n",
    "\"\"\")"
   ]
  },
  {
   "cell_type": "code",
   "execution_count": 313,
   "metadata": {},
   "outputs": [],
   "source": [
    "df_sales_19 = ps.sqldf(q1)"
   ]
  },
  {
   "cell_type": "code",
   "execution_count": 314,
   "metadata": {},
   "outputs": [],
   "source": [
    "#Create'MajorMinor' columns in df_res\n",
    "\n",
    "df_res['Major'] = df_res['Major'].astype(str)\n",
    "df_res['Minor'] = df_res['Minor'].astype(str)\n",
    "df_res['MajorMinor'] = df_res['Major'] + '-' + df_res['Minor']"
   ]
  },
  {
   "cell_type": "code",
   "execution_count": 315,
   "metadata": {},
   "outputs": [],
   "source": [
    "#Create'MajorMinor' columns in df_parcel\n",
    "\n",
    "df_parcel['Major'] = df_parcel['Major'].astype(str)\n",
    "df_parcel['Minor'] = df_parcel['Minor'].astype(str)\n",
    "df_parcel['MajorMinor'] = df_parcel['Major'] + '-' + df_parcel['Minor']"
   ]
  },
  {
   "cell_type": "code",
   "execution_count": 316,
   "metadata": {},
   "outputs": [],
   "source": [
    "#Merge Sales and Parcel \n",
    "\n",
    "new_df = pd.merge(df_sales_19, df_parcel, how = 'left',on =['MajorMinor'])"
   ]
  },
  {
   "cell_type": "code",
   "execution_count": 317,
   "metadata": {},
   "outputs": [],
   "source": [
    "#Merge the merged DF with Res \n",
    "\n",
    "final_df = pd.merge(new_df, df_res, how = 'left',on =['MajorMinor'])"
   ]
  },
  {
   "cell_type": "code",
   "execution_count": 318,
   "metadata": {},
   "outputs": [],
   "source": [
    "#Create a waterfront column \n",
    "\n",
    "final_df['is_waterfront'] = final_df['WfntLocation'] > 0"
   ]
  },
  {
   "cell_type": "code",
   "execution_count": 319,
   "metadata": {
    "scrolled": true
   },
   "outputs": [
    {
     "data": {
      "text/plain": [
       "0.0    19586\n",
       "8.0       99\n",
       "6.0       93\n",
       "9.0       56\n",
       "3.0       55\n",
       "7.0       28\n",
       "5.0        3\n",
       "1.0        2\n",
       "4.0        1\n",
       "Name: WfntLocation, dtype: int64"
      ]
     },
     "execution_count": 319,
     "metadata": {},
     "output_type": "execute_result"
    }
   ],
   "source": [
    "#How many waterfront in our DF \n",
    "\n",
    "final_df['WfntLocation'].value_counts()"
   ]
  }
 ],
 "metadata": {
  "kernelspec": {
   "display_name": "Python 3",
   "language": "python",
   "name": "python3"
  },
  "language_info": {
   "codemirror_mode": {
    "name": "ipython",
    "version": 3
   },
   "file_extension": ".py",
   "mimetype": "text/x-python",
   "name": "python",
   "nbconvert_exporter": "python",
   "pygments_lexer": "ipython3",
   "version": "3.7.6"
  }
 },
 "nbformat": 4,
 "nbformat_minor": 4
}
