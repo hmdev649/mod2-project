{
 "cells": [
  {
   "cell_type": "code",
   "execution_count": 39,
   "metadata": {},
   "outputs": [],
   "source": [
    "#Import Libraries\n",
    "\n",
    "import sqlite3\n",
    "import numpy as np \n",
    "import pandas as pd \n",
    "import pandasql as ps\n",
    "import matplotlib.pyplot as plt\n",
    "import seaborn as sns\n",
    "import statsmodels.api as sm\n",
    "from statsmodels.formula.api import ols\n",
    "from sklearn.preprocessing import OneHotEncoder\n",
    "from sklearn.preprocessing import LabelEncoder\n",
    "\n",
    "from sklearn.model_selection import train_test_split, cross_val_score\n",
    "from sklearn.linear_model import LinearRegression"
   ]
  },
  {
   "cell_type": "code",
   "execution_count": 9,
   "metadata": {},
   "outputs": [],
   "source": [
    "#Load data into DataFrames\n",
    "\n",
    "df_sales = pd.read_csv('../data/EXTR_RPSale.csv')\n",
    "df_res = pd.read_csv('../data/EXTR_ResBldg.csv')\n",
    "df_lookup = pd.read_csv('../data/EXTR_LookUp.csv')\n",
    "df_parcel = pd.read_csv('../data/EXTR_Parcel.csv', encoding='latin-1')"
   ]
  },
  {
   "cell_type": "code",
   "execution_count": 10,
   "metadata": {},
   "outputs": [],
   "source": [
    "#Create 'Year' and 'MajorMinor' columns in df_sales\n",
    "\n",
    "df_sales['year'] = pd.DatetimeIndex(df_sales['DocumentDate']).year\n",
    "df_sales['Major'] = df_sales['Major'].astype(str)\n",
    "df_sales['Minor'] = df_sales['Minor'].astype(str)\n",
    "df_sales['MajorMinor'] = df_sales['Major'] + '-' + df_sales['Minor']"
   ]
  },
  {
   "cell_type": "code",
   "execution_count": 11,
   "metadata": {
    "scrolled": true
   },
   "outputs": [],
   "source": [
    "#Filter for 2019 \n",
    "\n",
    "df_sales_19 = df_sales[df_sales['year']==2019]"
   ]
  },
  {
   "cell_type": "code",
   "execution_count": 12,
   "metadata": {},
   "outputs": [],
   "source": [
    "#Filter for PropertyType and SalePrice \n",
    "\n",
    "q1 = (\"\"\"SELECT * FROM df_sales_19\n",
    "WHERE (PropertyType = 11 or PropertyType = 12 or PropertyType = 13 or PropertyType = 14) and SalePrice > 0\n",
    "\"\"\")"
   ]
  },
  {
   "cell_type": "code",
   "execution_count": 13,
   "metadata": {},
   "outputs": [],
   "source": [
    "df_sales_19 = ps.sqldf(q1)"
   ]
  },
  {
   "cell_type": "code",
   "execution_count": 14,
   "metadata": {},
   "outputs": [],
   "source": [
    "#Create'MajorMinor' columns in df_res\n",
    "\n",
    "df_res['Major'] = df_res['Major'].astype(str)\n",
    "df_res['Minor'] = df_res['Minor'].astype(str)\n",
    "df_res['MajorMinor'] = df_res['Major'] + '-' + df_res['Minor']"
   ]
  },
  {
   "cell_type": "code",
   "execution_count": 15,
   "metadata": {},
   "outputs": [],
   "source": [
    "#Create'MajorMinor' columns in df_parcel\n",
    "\n",
    "df_parcel['Major'] = df_parcel['Major'].astype(str)\n",
    "df_parcel['Minor'] = df_parcel['Minor'].astype(str)\n",
    "df_parcel['MajorMinor'] = df_parcel['Major'] + '-' + df_parcel['Minor']"
   ]
  },
  {
   "cell_type": "code",
   "execution_count": 16,
   "metadata": {},
   "outputs": [],
   "source": [
    "#Merge Sales and Parcel \n",
    "\n",
    "new_df = pd.merge(df_sales_19, df_parcel, how = 'left',on =['MajorMinor'])"
   ]
  },
  {
   "cell_type": "code",
   "execution_count": 17,
   "metadata": {},
   "outputs": [],
   "source": [
    "#Merge the merged DF with Res \n",
    "\n",
    "final_df = pd.merge(new_df, df_res, how = 'left',on =['MajorMinor'])"
   ]
  },
  {
   "cell_type": "code",
   "execution_count": 18,
   "metadata": {},
   "outputs": [],
   "source": [
    "#Create a waterfront column \n",
    "\n",
    "final_df['is_waterfront'] = final_df['WfntLocation'] > 0"
   ]
  },
  {
   "cell_type": "code",
   "execution_count": 19,
   "metadata": {},
   "outputs": [
    {
     "data": {
      "text/plain": [
       "0.0    19586\n",
       "8.0       99\n",
       "6.0       93\n",
       "9.0       56\n",
       "3.0       55\n",
       "7.0       28\n",
       "5.0        3\n",
       "1.0        2\n",
       "4.0        1\n",
       "Name: WfntLocation, dtype: int64"
      ]
     },
     "execution_count": 19,
     "metadata": {},
     "output_type": "execute_result"
    }
   ],
   "source": [
    "#How many waterfront in our DF \n",
    "\n",
    "final_df['WfntLocation'].value_counts()"
   ]
  },
  {
   "cell_type": "code",
   "execution_count": 20,
   "metadata": {},
   "outputs": [
    {
     "data": {
      "text/plain": [
       "(22931, 158)"
      ]
     },
     "execution_count": 20,
     "metadata": {},
     "output_type": "execute_result"
    }
   ],
   "source": [
    "final_df.shape"
   ]
  },
  {
   "cell_type": "code",
   "execution_count": 23,
   "metadata": {},
   "outputs": [
    {
     "data": {
      "text/html": [
       "<div>\n",
       "<style scoped>\n",
       "    .dataframe tbody tr th:only-of-type {\n",
       "        vertical-align: middle;\n",
       "    }\n",
       "\n",
       "    .dataframe tbody tr th {\n",
       "        vertical-align: top;\n",
       "    }\n",
       "\n",
       "    .dataframe thead th {\n",
       "        text-align: right;\n",
       "    }\n",
       "</style>\n",
       "<table border=\"1\" class=\"dataframe\">\n",
       "  <thead>\n",
       "    <tr style=\"text-align: right;\">\n",
       "      <th></th>\n",
       "      <th>ExciseTaxNbr</th>\n",
       "      <th>SalePrice</th>\n",
       "      <th>PropertyType</th>\n",
       "      <th>PrincipalUse</th>\n",
       "      <th>SaleInstrument</th>\n",
       "      <th>SaleReason</th>\n",
       "      <th>PropertyClass</th>\n",
       "      <th>year</th>\n",
       "      <th>Range</th>\n",
       "      <th>Township</th>\n",
       "      <th>...</th>\n",
       "      <th>FpMultiStory</th>\n",
       "      <th>FpFreestanding</th>\n",
       "      <th>FpAdditional</th>\n",
       "      <th>YrBuilt</th>\n",
       "      <th>YrRenovated</th>\n",
       "      <th>PcntComplete</th>\n",
       "      <th>Obsolescence</th>\n",
       "      <th>PcntNetCondition</th>\n",
       "      <th>Condition</th>\n",
       "      <th>AddnlCost</th>\n",
       "    </tr>\n",
       "  </thead>\n",
       "  <tbody>\n",
       "    <tr>\n",
       "      <th>count</th>\n",
       "      <td>2.293100e+04</td>\n",
       "      <td>2.293100e+04</td>\n",
       "      <td>22931.000000</td>\n",
       "      <td>22931.000000</td>\n",
       "      <td>22931.00000</td>\n",
       "      <td>22931.000000</td>\n",
       "      <td>22931.000000</td>\n",
       "      <td>22931.0</td>\n",
       "      <td>19923.000000</td>\n",
       "      <td>19923.000000</td>\n",
       "      <td>...</td>\n",
       "      <td>19375.000000</td>\n",
       "      <td>19375.000000</td>\n",
       "      <td>19375.000000</td>\n",
       "      <td>19375.000000</td>\n",
       "      <td>19375.000000</td>\n",
       "      <td>19375.000000</td>\n",
       "      <td>19375.000000</td>\n",
       "      <td>19375.000000</td>\n",
       "      <td>19375.000000</td>\n",
       "      <td>19375.000000</td>\n",
       "    </tr>\n",
       "    <tr>\n",
       "      <th>mean</th>\n",
       "      <td>3.000581e+06</td>\n",
       "      <td>8.415076e+05</td>\n",
       "      <td>11.338755</td>\n",
       "      <td>5.585278</td>\n",
       "      <td>3.10331</td>\n",
       "      <td>1.002965</td>\n",
       "      <td>7.389124</td>\n",
       "      <td>2019.0</td>\n",
       "      <td>4.588516</td>\n",
       "      <td>23.823571</td>\n",
       "      <td>...</td>\n",
       "      <td>0.303639</td>\n",
       "      <td>0.067406</td>\n",
       "      <td>0.175639</td>\n",
       "      <td>1974.554219</td>\n",
       "      <td>95.131200</td>\n",
       "      <td>0.597677</td>\n",
       "      <td>0.123716</td>\n",
       "      <td>0.006761</td>\n",
       "      <td>3.434942</td>\n",
       "      <td>781.840206</td>\n",
       "    </tr>\n",
       "    <tr>\n",
       "      <th>std</th>\n",
       "      <td>1.688221e+04</td>\n",
       "      <td>2.315672e+06</td>\n",
       "      <td>0.933239</td>\n",
       "      <td>1.243877</td>\n",
       "      <td>1.39005</td>\n",
       "      <td>0.224512</td>\n",
       "      <td>1.651478</td>\n",
       "      <td>0.0</td>\n",
       "      <td>1.133155</td>\n",
       "      <td>1.669224</td>\n",
       "      <td>...</td>\n",
       "      <td>0.501299</td>\n",
       "      <td>0.258835</td>\n",
       "      <td>0.399190</td>\n",
       "      <td>30.522600</td>\n",
       "      <td>425.617303</td>\n",
       "      <td>6.852864</td>\n",
       "      <td>2.517477</td>\n",
       "      <td>0.433221</td>\n",
       "      <td>0.679666</td>\n",
       "      <td>2683.674905</td>\n",
       "    </tr>\n",
       "    <tr>\n",
       "      <th>min</th>\n",
       "      <td>2.968844e+06</td>\n",
       "      <td>1.000000e+01</td>\n",
       "      <td>11.000000</td>\n",
       "      <td>0.000000</td>\n",
       "      <td>2.00000</td>\n",
       "      <td>1.000000</td>\n",
       "      <td>0.000000</td>\n",
       "      <td>2019.0</td>\n",
       "      <td>2.000000</td>\n",
       "      <td>19.000000</td>\n",
       "      <td>...</td>\n",
       "      <td>0.000000</td>\n",
       "      <td>0.000000</td>\n",
       "      <td>0.000000</td>\n",
       "      <td>1900.000000</td>\n",
       "      <td>0.000000</td>\n",
       "      <td>0.000000</td>\n",
       "      <td>0.000000</td>\n",
       "      <td>0.000000</td>\n",
       "      <td>1.000000</td>\n",
       "      <td>0.000000</td>\n",
       "    </tr>\n",
       "    <tr>\n",
       "      <th>25%</th>\n",
       "      <td>2.986058e+06</td>\n",
       "      <td>4.395000e+05</td>\n",
       "      <td>11.000000</td>\n",
       "      <td>6.000000</td>\n",
       "      <td>3.00000</td>\n",
       "      <td>1.000000</td>\n",
       "      <td>8.000000</td>\n",
       "      <td>2019.0</td>\n",
       "      <td>4.000000</td>\n",
       "      <td>23.000000</td>\n",
       "      <td>...</td>\n",
       "      <td>0.000000</td>\n",
       "      <td>0.000000</td>\n",
       "      <td>0.000000</td>\n",
       "      <td>1954.000000</td>\n",
       "      <td>0.000000</td>\n",
       "      <td>0.000000</td>\n",
       "      <td>0.000000</td>\n",
       "      <td>0.000000</td>\n",
       "      <td>3.000000</td>\n",
       "      <td>0.000000</td>\n",
       "    </tr>\n",
       "    <tr>\n",
       "      <th>50%</th>\n",
       "      <td>3.001453e+06</td>\n",
       "      <td>6.300000e+05</td>\n",
       "      <td>11.000000</td>\n",
       "      <td>6.000000</td>\n",
       "      <td>3.00000</td>\n",
       "      <td>1.000000</td>\n",
       "      <td>8.000000</td>\n",
       "      <td>2019.0</td>\n",
       "      <td>4.000000</td>\n",
       "      <td>24.000000</td>\n",
       "      <td>...</td>\n",
       "      <td>0.000000</td>\n",
       "      <td>0.000000</td>\n",
       "      <td>0.000000</td>\n",
       "      <td>1978.000000</td>\n",
       "      <td>0.000000</td>\n",
       "      <td>0.000000</td>\n",
       "      <td>0.000000</td>\n",
       "      <td>0.000000</td>\n",
       "      <td>3.000000</td>\n",
       "      <td>0.000000</td>\n",
       "    </tr>\n",
       "    <tr>\n",
       "      <th>75%</th>\n",
       "      <td>3.014598e+06</td>\n",
       "      <td>8.850000e+05</td>\n",
       "      <td>11.000000</td>\n",
       "      <td>6.000000</td>\n",
       "      <td>3.00000</td>\n",
       "      <td>1.000000</td>\n",
       "      <td>8.000000</td>\n",
       "      <td>2019.0</td>\n",
       "      <td>5.000000</td>\n",
       "      <td>25.000000</td>\n",
       "      <td>...</td>\n",
       "      <td>1.000000</td>\n",
       "      <td>0.000000</td>\n",
       "      <td>0.000000</td>\n",
       "      <td>2001.000000</td>\n",
       "      <td>0.000000</td>\n",
       "      <td>0.000000</td>\n",
       "      <td>0.000000</td>\n",
       "      <td>0.000000</td>\n",
       "      <td>4.000000</td>\n",
       "      <td>0.000000</td>\n",
       "    </tr>\n",
       "    <tr>\n",
       "      <th>max</th>\n",
       "      <td>3.035196e+06</td>\n",
       "      <td>1.630510e+08</td>\n",
       "      <td>14.000000</td>\n",
       "      <td>7.000000</td>\n",
       "      <td>27.00000</td>\n",
       "      <td>18.000000</td>\n",
       "      <td>9.000000</td>\n",
       "      <td>2019.0</td>\n",
       "      <td>13.000000</td>\n",
       "      <td>26.000000</td>\n",
       "      <td>...</td>\n",
       "      <td>5.000000</td>\n",
       "      <td>2.000000</td>\n",
       "      <td>3.000000</td>\n",
       "      <td>2019.000000</td>\n",
       "      <td>2019.000000</td>\n",
       "      <td>100.000000</td>\n",
       "      <td>99.000000</td>\n",
       "      <td>40.000000</td>\n",
       "      <td>5.000000</td>\n",
       "      <td>60000.000000</td>\n",
       "    </tr>\n",
       "  </tbody>\n",
       "</table>\n",
       "<p>8 rows × 89 columns</p>\n",
       "</div>"
      ],
      "text/plain": [
       "       ExciseTaxNbr     SalePrice  PropertyType  PrincipalUse  SaleInstrument  \\\n",
       "count  2.293100e+04  2.293100e+04  22931.000000  22931.000000     22931.00000   \n",
       "mean   3.000581e+06  8.415076e+05     11.338755      5.585278         3.10331   \n",
       "std    1.688221e+04  2.315672e+06      0.933239      1.243877         1.39005   \n",
       "min    2.968844e+06  1.000000e+01     11.000000      0.000000         2.00000   \n",
       "25%    2.986058e+06  4.395000e+05     11.000000      6.000000         3.00000   \n",
       "50%    3.001453e+06  6.300000e+05     11.000000      6.000000         3.00000   \n",
       "75%    3.014598e+06  8.850000e+05     11.000000      6.000000         3.00000   \n",
       "max    3.035196e+06  1.630510e+08     14.000000      7.000000        27.00000   \n",
       "\n",
       "         SaleReason  PropertyClass     year         Range      Township  ...  \\\n",
       "count  22931.000000   22931.000000  22931.0  19923.000000  19923.000000  ...   \n",
       "mean       1.002965       7.389124   2019.0      4.588516     23.823571  ...   \n",
       "std        0.224512       1.651478      0.0      1.133155      1.669224  ...   \n",
       "min        1.000000       0.000000   2019.0      2.000000     19.000000  ...   \n",
       "25%        1.000000       8.000000   2019.0      4.000000     23.000000  ...   \n",
       "50%        1.000000       8.000000   2019.0      4.000000     24.000000  ...   \n",
       "75%        1.000000       8.000000   2019.0      5.000000     25.000000  ...   \n",
       "max       18.000000       9.000000   2019.0     13.000000     26.000000  ...   \n",
       "\n",
       "       FpMultiStory  FpFreestanding  FpAdditional       YrBuilt   YrRenovated  \\\n",
       "count  19375.000000    19375.000000  19375.000000  19375.000000  19375.000000   \n",
       "mean       0.303639        0.067406      0.175639   1974.554219     95.131200   \n",
       "std        0.501299        0.258835      0.399190     30.522600    425.617303   \n",
       "min        0.000000        0.000000      0.000000   1900.000000      0.000000   \n",
       "25%        0.000000        0.000000      0.000000   1954.000000      0.000000   \n",
       "50%        0.000000        0.000000      0.000000   1978.000000      0.000000   \n",
       "75%        1.000000        0.000000      0.000000   2001.000000      0.000000   \n",
       "max        5.000000        2.000000      3.000000   2019.000000   2019.000000   \n",
       "\n",
       "       PcntComplete  Obsolescence  PcntNetCondition     Condition  \\\n",
       "count  19375.000000  19375.000000      19375.000000  19375.000000   \n",
       "mean       0.597677      0.123716          0.006761      3.434942   \n",
       "std        6.852864      2.517477          0.433221      0.679666   \n",
       "min        0.000000      0.000000          0.000000      1.000000   \n",
       "25%        0.000000      0.000000          0.000000      3.000000   \n",
       "50%        0.000000      0.000000          0.000000      3.000000   \n",
       "75%        0.000000      0.000000          0.000000      4.000000   \n",
       "max      100.000000     99.000000         40.000000      5.000000   \n",
       "\n",
       "          AddnlCost  \n",
       "count  19375.000000  \n",
       "mean     781.840206  \n",
       "std     2683.674905  \n",
       "min        0.000000  \n",
       "25%        0.000000  \n",
       "50%        0.000000  \n",
       "75%        0.000000  \n",
       "max    60000.000000  \n",
       "\n",
       "[8 rows x 89 columns]"
      ]
     },
     "execution_count": 23,
     "metadata": {},
     "output_type": "execute_result"
    }
   ],
   "source": [
    "final_df.describe()"
   ]
  },
  {
   "cell_type": "code",
   "execution_count": 34,
   "metadata": {},
   "outputs": [],
   "source": [
    "final_df['SqFtProp'] = final_df['SqFtTotLiving']/final_df['SqFtLot']"
   ]
  },
  {
   "cell_type": "code",
   "execution_count": 35,
   "metadata": {},
   "outputs": [
    {
     "data": {
      "text/plain": [
       "count    19375.000000\n",
       "mean         0.345664\n",
       "std          0.311609\n",
       "min          0.000565\n",
       "25%          0.157588\n",
       "50%          0.254000\n",
       "75%          0.428726\n",
       "max          4.509395\n",
       "Name: SqFtProp, dtype: float64"
      ]
     },
     "execution_count": 35,
     "metadata": {},
     "output_type": "execute_result"
    }
   ],
   "source": [
    "final_df['SqFtProp'].describe()"
   ]
  },
  {
   "cell_type": "code",
   "execution_count": 36,
   "metadata": {},
   "outputs": [],
   "source": [
    "final_df['CostSqFt'] = final_df['SalePrice']/final_df['SqFtTotLiving']"
   ]
  },
  {
   "cell_type": "code",
   "execution_count": 37,
   "metadata": {},
   "outputs": [
    {
     "data": {
      "text/plain": [
       "count    19375.000000\n",
       "mean       393.728628\n",
       "std        364.712540\n",
       "min          0.002268\n",
       "25%        258.123872\n",
       "50%        350.318471\n",
       "75%        466.145139\n",
       "max      29629.629630\n",
       "Name: CostSqFt, dtype: float64"
      ]
     },
     "execution_count": 37,
     "metadata": {},
     "output_type": "execute_result"
    }
   ],
   "source": [
    "final_df['CostSqFt'].describe()"
   ]
  },
  {
   "cell_type": "code",
   "execution_count": 79,
   "metadata": {},
   "outputs": [
    {
     "data": {
      "text/html": [
       "<table class=\"simpletable\">\n",
       "<caption>OLS Regression Results</caption>\n",
       "<tr>\n",
       "  <th>Dep. Variable:</th>        <td>SalePrice</td>    <th>  R-squared:         </th>  <td>   0.337</td>  \n",
       "</tr>\n",
       "<tr>\n",
       "  <th>Model:</th>                   <td>OLS</td>       <th>  Adj. R-squared:    </th>  <td>   0.337</td>  \n",
       "</tr>\n",
       "<tr>\n",
       "  <th>Method:</th>             <td>Least Squares</td>  <th>  F-statistic:       </th>  <td>   9865.</td>  \n",
       "</tr>\n",
       "<tr>\n",
       "  <th>Date:</th>             <td>Tue, 03 Mar 2020</td> <th>  Prob (F-statistic):</th>   <td>  0.00</td>   \n",
       "</tr>\n",
       "<tr>\n",
       "  <th>Time:</th>                 <td>11:40:38</td>     <th>  Log-Likelihood:    </th> <td>-2.8173e+05</td>\n",
       "</tr>\n",
       "<tr>\n",
       "  <th>No. Observations:</th>      <td> 19375</td>      <th>  AIC:               </th>  <td>5.635e+05</td> \n",
       "</tr>\n",
       "<tr>\n",
       "  <th>Df Residuals:</th>          <td> 19373</td>      <th>  BIC:               </th>  <td>5.635e+05</td> \n",
       "</tr>\n",
       "<tr>\n",
       "  <th>Df Model:</th>              <td>     1</td>      <th>                     </th>      <td> </td>     \n",
       "</tr>\n",
       "<tr>\n",
       "  <th>Covariance Type:</th>      <td>nonrobust</td>    <th>                     </th>      <td> </td>     \n",
       "</tr>\n",
       "</table>\n",
       "<table class=\"simpletable\">\n",
       "<tr>\n",
       "      <td></td>         <th>coef</th>     <th>std err</th>      <th>t</th>      <th>P>|t|</th>  <th>[0.025</th>    <th>0.975]</th>  \n",
       "</tr>\n",
       "<tr>\n",
       "  <th>Intercept</th> <td>-1.512e+06</td> <td> 2.36e+04</td> <td>  -64.186</td> <td> 0.000</td> <td>-1.56e+06</td> <td>-1.47e+06</td>\n",
       "</tr>\n",
       "<tr>\n",
       "  <th>BldgGrade</th> <td> 3.006e+05</td> <td> 3026.963</td> <td>   99.321</td> <td> 0.000</td> <td> 2.95e+05</td> <td> 3.07e+05</td>\n",
       "</tr>\n",
       "</table>\n",
       "<table class=\"simpletable\">\n",
       "<tr>\n",
       "  <th>Omnibus:</th>       <td>28545.481</td> <th>  Durbin-Watson:     </th>   <td>   1.787</td>  \n",
       "</tr>\n",
       "<tr>\n",
       "  <th>Prob(Omnibus):</th>  <td> 0.000</td>   <th>  Jarque-Bera (JB):  </th> <td>26032063.399</td>\n",
       "</tr>\n",
       "<tr>\n",
       "  <th>Skew:</th>           <td> 8.655</td>   <th>  Prob(JB):          </th>   <td>    0.00</td>  \n",
       "</tr>\n",
       "<tr>\n",
       "  <th>Kurtosis:</th>       <td>181.736</td>  <th>  Cond. No.          </th>   <td>    51.9</td>  \n",
       "</tr>\n",
       "</table><br/><br/>Warnings:<br/>[1] Standard Errors assume that the covariance matrix of the errors is correctly specified."
      ],
      "text/plain": [
       "<class 'statsmodels.iolib.summary.Summary'>\n",
       "\"\"\"\n",
       "                            OLS Regression Results                            \n",
       "==============================================================================\n",
       "Dep. Variable:              SalePrice   R-squared:                       0.337\n",
       "Model:                            OLS   Adj. R-squared:                  0.337\n",
       "Method:                 Least Squares   F-statistic:                     9865.\n",
       "Date:                Tue, 03 Mar 2020   Prob (F-statistic):               0.00\n",
       "Time:                        11:40:38   Log-Likelihood:            -2.8173e+05\n",
       "No. Observations:               19375   AIC:                         5.635e+05\n",
       "Df Residuals:                   19373   BIC:                         5.635e+05\n",
       "Df Model:                           1                                         \n",
       "Covariance Type:            nonrobust                                         \n",
       "==============================================================================\n",
       "                 coef    std err          t      P>|t|      [0.025      0.975]\n",
       "------------------------------------------------------------------------------\n",
       "Intercept  -1.512e+06   2.36e+04    -64.186      0.000   -1.56e+06   -1.47e+06\n",
       "BldgGrade   3.006e+05   3026.963     99.321      0.000    2.95e+05    3.07e+05\n",
       "==============================================================================\n",
       "Omnibus:                    28545.481   Durbin-Watson:                   1.787\n",
       "Prob(Omnibus):                  0.000   Jarque-Bera (JB):         26032063.399\n",
       "Skew:                           8.655   Prob(JB):                         0.00\n",
       "Kurtosis:                     181.736   Cond. No.                         51.9\n",
       "==============================================================================\n",
       "\n",
       "Warnings:\n",
       "[1] Standard Errors assume that the covariance matrix of the errors is correctly specified.\n",
       "\"\"\""
      ]
     },
     "execution_count": 79,
     "metadata": {},
     "output_type": "execute_result"
    }
   ],
   "source": [
    "fsm_df_3 = final_df[[\"SalePrice\", \"BldgGrade\"]].copy()\n",
    "fsm_df_3.dropna(inplace=True)\n",
    "fsm_3 = ols(formula=\"SalePrice ~ BldgGrade\", data=fsm_df_3).fit()\n",
    "fsm_3.summary()"
   ]
  },
  {
   "cell_type": "code",
   "execution_count": 78,
   "metadata": {},
   "outputs": [
    {
     "data": {
      "text/html": [
       "<table class=\"simpletable\">\n",
       "<caption>OLS Regression Results</caption>\n",
       "<tr>\n",
       "  <th>Dep. Variable:</th>        <td>SalePrice</td>    <th>  R-squared:         </th>  <td>   0.663</td>  \n",
       "</tr>\n",
       "<tr>\n",
       "  <th>Model:</th>                   <td>OLS</td>       <th>  Adj. R-squared:    </th>  <td>   0.663</td>  \n",
       "</tr>\n",
       "<tr>\n",
       "  <th>Method:</th>             <td>Least Squares</td>  <th>  F-statistic:       </th>  <td>1.271e+04</td> \n",
       "</tr>\n",
       "<tr>\n",
       "  <th>Date:</th>             <td>Tue, 03 Mar 2020</td> <th>  Prob (F-statistic):</th>   <td>  0.00</td>   \n",
       "</tr>\n",
       "<tr>\n",
       "  <th>Time:</th>                 <td>11:38:52</td>     <th>  Log-Likelihood:    </th> <td>-2.7518e+05</td>\n",
       "</tr>\n",
       "<tr>\n",
       "  <th>No. Observations:</th>      <td> 19375</td>      <th>  AIC:               </th>  <td>5.504e+05</td> \n",
       "</tr>\n",
       "<tr>\n",
       "  <th>Df Residuals:</th>          <td> 19371</td>      <th>  BIC:               </th>  <td>5.504e+05</td> \n",
       "</tr>\n",
       "<tr>\n",
       "  <th>Df Model:</th>              <td>     3</td>      <th>                     </th>      <td> </td>     \n",
       "</tr>\n",
       "<tr>\n",
       "  <th>Covariance Type:</th>      <td>nonrobust</td>    <th>                     </th>      <td> </td>     \n",
       "</tr>\n",
       "</table>\n",
       "<table class=\"simpletable\">\n",
       "<tr>\n",
       "        <td></td>           <th>coef</th>     <th>std err</th>      <th>t</th>      <th>P>|t|</th>  <th>[0.025</th>    <th>0.975]</th>  \n",
       "</tr>\n",
       "<tr>\n",
       "  <th>Intercept</th>     <td>-4.812e+05</td> <td> 7492.040</td> <td>  -64.230</td> <td> 0.000</td> <td>-4.96e+05</td> <td>-4.67e+05</td>\n",
       "</tr>\n",
       "<tr>\n",
       "  <th>SqFtTotLiving</th> <td>  409.3854</td> <td>    2.642</td> <td>  154.932</td> <td> 0.000</td> <td>  404.206</td> <td>  414.565</td>\n",
       "</tr>\n",
       "<tr>\n",
       "  <th>SqFtProp</th>      <td> 8.168e+04</td> <td> 8233.152</td> <td>    9.921</td> <td> 0.000</td> <td> 6.55e+04</td> <td> 9.78e+04</td>\n",
       "</tr>\n",
       "<tr>\n",
       "  <th>CostSqFt</th>      <td>  955.7403</td> <td>    7.077</td> <td>  135.050</td> <td> 0.000</td> <td>  941.869</td> <td>  969.612</td>\n",
       "</tr>\n",
       "</table>\n",
       "<table class=\"simpletable\">\n",
       "<tr>\n",
       "  <th>Omnibus:</th>       <td>23472.225</td> <th>  Durbin-Watson:     </th>   <td>   2.116</td>  \n",
       "</tr>\n",
       "<tr>\n",
       "  <th>Prob(Omnibus):</th>  <td> 0.000</td>   <th>  Jarque-Bera (JB):  </th> <td>68231497.856</td>\n",
       "</tr>\n",
       "<tr>\n",
       "  <th>Skew:</th>           <td> 5.405</td>   <th>  Prob(JB):          </th>   <td>    0.00</td>  \n",
       "</tr>\n",
       "<tr>\n",
       "  <th>Kurtosis:</th>       <td>293.520</td>  <th>  Cond. No.          </th>   <td>8.47e+03</td>  \n",
       "</tr>\n",
       "</table><br/><br/>Warnings:<br/>[1] Standard Errors assume that the covariance matrix of the errors is correctly specified.<br/>[2] The condition number is large, 8.47e+03. This might indicate that there are<br/>strong multicollinearity or other numerical problems."
      ],
      "text/plain": [
       "<class 'statsmodels.iolib.summary.Summary'>\n",
       "\"\"\"\n",
       "                            OLS Regression Results                            \n",
       "==============================================================================\n",
       "Dep. Variable:              SalePrice   R-squared:                       0.663\n",
       "Model:                            OLS   Adj. R-squared:                  0.663\n",
       "Method:                 Least Squares   F-statistic:                 1.271e+04\n",
       "Date:                Tue, 03 Mar 2020   Prob (F-statistic):               0.00\n",
       "Time:                        11:38:52   Log-Likelihood:            -2.7518e+05\n",
       "No. Observations:               19375   AIC:                         5.504e+05\n",
       "Df Residuals:                   19371   BIC:                         5.504e+05\n",
       "Df Model:                           3                                         \n",
       "Covariance Type:            nonrobust                                         \n",
       "=================================================================================\n",
       "                    coef    std err          t      P>|t|      [0.025      0.975]\n",
       "---------------------------------------------------------------------------------\n",
       "Intercept     -4.812e+05   7492.040    -64.230      0.000   -4.96e+05   -4.67e+05\n",
       "SqFtTotLiving   409.3854      2.642    154.932      0.000     404.206     414.565\n",
       "SqFtProp       8.168e+04   8233.152      9.921      0.000    6.55e+04    9.78e+04\n",
       "CostSqFt        955.7403      7.077    135.050      0.000     941.869     969.612\n",
       "==============================================================================\n",
       "Omnibus:                    23472.225   Durbin-Watson:                   2.116\n",
       "Prob(Omnibus):                  0.000   Jarque-Bera (JB):         68231497.856\n",
       "Skew:                           5.405   Prob(JB):                         0.00\n",
       "Kurtosis:                     293.520   Cond. No.                     8.47e+03\n",
       "==============================================================================\n",
       "\n",
       "Warnings:\n",
       "[1] Standard Errors assume that the covariance matrix of the errors is correctly specified.\n",
       "[2] The condition number is large, 8.47e+03. This might indicate that there are\n",
       "strong multicollinearity or other numerical problems.\n",
       "\"\"\""
      ]
     },
     "execution_count": 78,
     "metadata": {},
     "output_type": "execute_result"
    }
   ],
   "source": [
    "fsm_df = final_df[[\"SalePrice\", \"SqFtTotLiving\", \"SqFtProp\", \"CostSqFt\"]].copy()\n",
    "fsm_df.dropna(inplace=True)\n",
    "fsm = ols(formula=\"SalePrice ~ SqFtTotLiving + SqFtProp + CostSqFt\", data=fsm_df).fit()\n",
    "fsm.summary()"
   ]
  },
  {
   "cell_type": "code",
   "execution_count": 26,
   "metadata": {},
   "outputs": [
    {
     "name": "stdout",
     "output_type": "stream",
     "text": [
      "<class 'pandas.core.frame.DataFrame'>\n",
      "RangeIndex: 514509 entries, 0 to 514508\n",
      "Data columns (total 51 columns):\n",
      " #   Column              Non-Null Count   Dtype  \n",
      "---  ------              --------------   -----  \n",
      " 0   Major               514509 non-null  object \n",
      " 1   Minor               514509 non-null  object \n",
      " 2   BldgNbr             514509 non-null  int64  \n",
      " 3   NbrLivingUnits      514509 non-null  int64  \n",
      " 4   Address             514509 non-null  object \n",
      " 5   BuildingNumber      514509 non-null  object \n",
      " 6   Fraction            514509 non-null  object \n",
      " 7   DirectionPrefix     514011 non-null  object \n",
      " 8   StreetName          514509 non-null  object \n",
      " 9   StreetType          514509 non-null  object \n",
      " 10  DirectionSuffix     514011 non-null  object \n",
      " 11  ZipCode             469267 non-null  object \n",
      " 12  Stories             514509 non-null  float64\n",
      " 13  BldgGrade           514509 non-null  int64  \n",
      " 14  BldgGradeVar        514509 non-null  int64  \n",
      " 15  SqFt1stFloor        514509 non-null  int64  \n",
      " 16  SqFtHalfFloor       514509 non-null  int64  \n",
      " 17  SqFt2ndFloor        514509 non-null  int64  \n",
      " 18  SqFtUpperFloor      514509 non-null  int64  \n",
      " 19  SqFtUnfinFull       514509 non-null  int64  \n",
      " 20  SqFtUnfinHalf       514509 non-null  int64  \n",
      " 21  SqFtTotLiving       514509 non-null  int64  \n",
      " 22  SqFtTotBasement     514509 non-null  int64  \n",
      " 23  SqFtFinBasement     514509 non-null  int64  \n",
      " 24  FinBasementGrade    514509 non-null  int64  \n",
      " 25  SqFtGarageBasement  514509 non-null  int64  \n",
      " 26  SqFtGarageAttached  514509 non-null  int64  \n",
      " 27  DaylightBasement    514509 non-null  object \n",
      " 28  SqFtOpenPorch       514509 non-null  int64  \n",
      " 29  SqFtEnclosedPorch   514509 non-null  int64  \n",
      " 30  SqFtDeck            514509 non-null  int64  \n",
      " 31  HeatSystem          514509 non-null  int64  \n",
      " 32  HeatSource          514509 non-null  int64  \n",
      " 33  BrickStone          514509 non-null  int64  \n",
      " 34  ViewUtilization     514509 non-null  object \n",
      " 35  Bedrooms            514509 non-null  int64  \n",
      " 36  BathHalfCount       514509 non-null  int64  \n",
      " 37  Bath3qtrCount       514509 non-null  int64  \n",
      " 38  BathFullCount       514509 non-null  int64  \n",
      " 39  FpSingleStory       514509 non-null  int64  \n",
      " 40  FpMultiStory        514509 non-null  int64  \n",
      " 41  FpFreestanding      514509 non-null  int64  \n",
      " 42  FpAdditional        514509 non-null  int64  \n",
      " 43  YrBuilt             514509 non-null  int64  \n",
      " 44  YrRenovated         514509 non-null  int64  \n",
      " 45  PcntComplete        514509 non-null  int64  \n",
      " 46  Obsolescence        514509 non-null  int64  \n",
      " 47  PcntNetCondition    514509 non-null  int64  \n",
      " 48  Condition           514509 non-null  int64  \n",
      " 49  AddnlCost           514509 non-null  int64  \n",
      " 50  MajorMinor          514509 non-null  object \n",
      "dtypes: float64(1), int64(37), object(13)\n",
      "memory usage: 200.2+ MB\n"
     ]
    }
   ],
   "source": [
    "df_res.info()"
   ]
  },
  {
   "cell_type": "code",
   "execution_count": 24,
   "metadata": {},
   "outputs": [
    {
     "name": "stdout",
     "output_type": "stream",
     "text": [
      "<class 'pandas.core.frame.DataFrame'>\n",
      "RangeIndex: 614337 entries, 0 to 614336\n",
      "Data columns (total 82 columns):\n",
      " #   Column                  Non-Null Count   Dtype  \n",
      "---  ------                  --------------   -----  \n",
      " 0   Major                   614337 non-null  object \n",
      " 1   Minor                   614337 non-null  object \n",
      " 2   PropName                601485 non-null  object \n",
      " 3   PlatName                520002 non-null  object \n",
      " 4   PlatLot                 614337 non-null  object \n",
      " 5   PlatBlock               614337 non-null  object \n",
      " 6   Range                   614337 non-null  int64  \n",
      " 7   Township                614337 non-null  int64  \n",
      " 8   Section                 614337 non-null  int64  \n",
      " 9   QuarterSection          614337 non-null  object \n",
      " 10  PropType                614337 non-null  object \n",
      " 11  Area                    614307 non-null  float64\n",
      " 12  SubArea                 614307 non-null  float64\n",
      " 13  SpecArea                17333 non-null   float64\n",
      " 14  SpecSubArea             17333 non-null   float64\n",
      " 15  DistrictName            614337 non-null  object \n",
      " 16  LevyCode                614337 non-null  int64  \n",
      " 17  CurrentZoning           614336 non-null  object \n",
      " 18  HBUAsIfVacant           614337 non-null  int64  \n",
      " 19  HBUAsImproved           614337 non-null  int64  \n",
      " 20  PresentUse              614337 non-null  int64  \n",
      " 21  SqFtLot                 614337 non-null  int64  \n",
      " 22  WaterSystem             614337 non-null  int64  \n",
      " 23  SewerSystem             614337 non-null  int64  \n",
      " 24  Access                  614337 non-null  int64  \n",
      " 25  Topography              614337 non-null  int64  \n",
      " 26  StreetSurface           614337 non-null  int64  \n",
      " 27  RestrictiveSzShape      614337 non-null  int64  \n",
      " 28  InadequateParking       614337 non-null  int64  \n",
      " 29  PcntUnusable            614337 non-null  int64  \n",
      " 30  Unbuildable             614337 non-null  bool   \n",
      " 31  MtRainier               614337 non-null  int64  \n",
      " 32  Olympics                614337 non-null  int64  \n",
      " 33  Cascades                614337 non-null  int64  \n",
      " 34  Territorial             614337 non-null  int64  \n",
      " 35  SeattleSkyline          614337 non-null  int64  \n",
      " 36  PugetSound              614337 non-null  int64  \n",
      " 37  LakeWashington          614337 non-null  int64  \n",
      " 38  LakeSammamish           614337 non-null  int64  \n",
      " 39  SmallLakeRiverCreek     614337 non-null  int64  \n",
      " 40  OtherView               614337 non-null  int64  \n",
      " 41  WfntLocation            614337 non-null  int64  \n",
      " 42  WfntFootage             614337 non-null  int64  \n",
      " 43  WfntBank                614337 non-null  int64  \n",
      " 44  WfntPoorQuality         614337 non-null  int64  \n",
      " 45  WfntRestrictedAccess    614337 non-null  int64  \n",
      " 46  WfntAccessRights        614337 non-null  object \n",
      " 47  WfntProximityInfluence  614337 non-null  object \n",
      " 48  TidelandShoreland       614337 non-null  int64  \n",
      " 49  LotDepthFactor          614337 non-null  int64  \n",
      " 50  TrafficNoise            614337 non-null  int64  \n",
      " 51  AirportNoise            614337 non-null  int64  \n",
      " 52  PowerLines              614337 non-null  object \n",
      " 53  OtherNuisances          614337 non-null  object \n",
      " 54  NbrBldgSites            614337 non-null  int64  \n",
      " 55  Contamination           614337 non-null  int64  \n",
      " 56  DNRLease                614337 non-null  object \n",
      " 57  AdjacentGolfFairway     614337 non-null  object \n",
      " 58  AdjacentGreenbelt       614337 non-null  object \n",
      " 59  HistoricSite            614337 non-null  int64  \n",
      " 60  CurrentUseDesignation   614337 non-null  int64  \n",
      " 61  NativeGrowthProtEsmt    614337 non-null  object \n",
      " 62  Easements               614337 non-null  object \n",
      " 63  OtherDesignation        614337 non-null  object \n",
      " 64  DeedRestrictions        614337 non-null  object \n",
      " 65  DevelopmentRightsPurch  614337 non-null  object \n",
      " 66  CoalMineHazard          614337 non-null  object \n",
      " 67  CriticalDrainage        614337 non-null  object \n",
      " 68  ErosionHazard           614337 non-null  object \n",
      " 69  LandfillBuffer          614337 non-null  object \n",
      " 70  HundredYrFloodPlain     614337 non-null  object \n",
      " 71  SeismicHazard           614337 non-null  object \n",
      " 72  LandslideHazard         614337 non-null  object \n",
      " 73  SteepSlopeHazard        614337 non-null  object \n",
      " 74  Stream                  614337 non-null  object \n",
      " 75  Wetland                 614337 non-null  object \n",
      " 76  SpeciesOfConcern        614337 non-null  object \n",
      " 77  SensitiveAreaTract      614337 non-null  object \n",
      " 78  WaterProblems           614337 non-null  object \n",
      " 79  TranspConcurrency       614337 non-null  object \n",
      " 80  OtherProblems           614337 non-null  object \n",
      " 81  MajorMinor              614337 non-null  object \n",
      "dtypes: bool(1), float64(4), int64(39), object(38)\n",
      "memory usage: 380.2+ MB\n"
     ]
    }
   ],
   "source": [
    "df_parcel.info()"
   ]
  },
  {
   "cell_type": "code",
   "execution_count": 65,
   "metadata": {},
   "outputs": [
    {
     "data": {
      "text/plain": [
       "0.0    17160\n",
       "1.0     1654\n",
       "2.0      969\n",
       "3.0      140\n",
       "Name: TrafficNoise, dtype: int64"
      ]
     },
     "execution_count": 65,
     "metadata": {},
     "output_type": "execute_result"
    }
   ],
   "source": [
    "final_df['TrafficNoise'].value_counts()"
   ]
  },
  {
   "cell_type": "code",
   "execution_count": null,
   "metadata": {},
   "outputs": [],
   "source": [
    "#0 is None\n",
    "#1 is Moderate\n",
    "#2 is High\n",
    "#3 is Extreme "
   ]
  },
  {
   "cell_type": "code",
   "execution_count": 62,
   "metadata": {},
   "outputs": [],
   "source": [
    "qt = (\"\"\"\n",
    "SELECT SalePrice,\n",
    "CASE\n",
    "    WHEN TrafficNoise > 0 THEN 1\n",
    "    ELSE 0\n",
    "END AS traffic\n",
    "FROM final_df\n",
    "\"\"\")\n",
    "traffic_df = ps.sqldf(qt)"
   ]
  },
  {
   "cell_type": "code",
   "execution_count": 66,
   "metadata": {},
   "outputs": [],
   "source": [
    "final_df['Traffic'] = traffic_df['traffic']"
   ]
  },
  {
   "cell_type": "code",
   "execution_count": 77,
   "metadata": {},
   "outputs": [
    {
     "data": {
      "text/plain": [
       "0    20168\n",
       "1     2763\n",
       "Name: traffic, dtype: int64"
      ]
     },
     "execution_count": 77,
     "metadata": {},
     "output_type": "execute_result"
    }
   ],
   "source": [
    "traffic_df['traffic'].value_counts()"
   ]
  },
  {
   "cell_type": "code",
   "execution_count": null,
   "metadata": {},
   "outputs": [],
   "source": [
    "fsm_df = final_df[[\"SalePrice\", \"SqFtTotLiving\", \"SqFtProp\", \"CostSqFt\"]].copy()\n",
    "fsm_df.dropna(inplace=True)\n",
    "fsm = ols(formula=\"SalePrice ~ SqFtTotLiving + SqFtProp + CostSqFt\", data=fsm_df).fit()\n",
    "fsm.summary()"
   ]
  },
  {
   "cell_type": "code",
   "execution_count": 75,
   "metadata": {},
   "outputs": [
    {
     "data": {
      "text/html": [
       "<table class=\"simpletable\">\n",
       "<caption>OLS Regression Results</caption>\n",
       "<tr>\n",
       "  <th>Dep. Variable:</th>        <td>SalePrice</td>    <th>  R-squared:         </th>  <td>   0.000</td>  \n",
       "</tr>\n",
       "<tr>\n",
       "  <th>Model:</th>                   <td>OLS</td>       <th>  Adj. R-squared:    </th>  <td>  -0.000</td>  \n",
       "</tr>\n",
       "<tr>\n",
       "  <th>Method:</th>             <td>Least Squares</td>  <th>  F-statistic:       </th>  <td>  0.3993</td>  \n",
       "</tr>\n",
       "<tr>\n",
       "  <th>Date:</th>             <td>Tue, 03 Mar 2020</td> <th>  Prob (F-statistic):</th>   <td> 0.527</td>   \n",
       "</tr>\n",
       "<tr>\n",
       "  <th>Time:</th>                 <td>11:35:30</td>     <th>  Log-Likelihood:    </th> <td>-3.6860e+05</td>\n",
       "</tr>\n",
       "<tr>\n",
       "  <th>No. Observations:</th>      <td> 22931</td>      <th>  AIC:               </th>  <td>7.372e+05</td> \n",
       "</tr>\n",
       "<tr>\n",
       "  <th>Df Residuals:</th>          <td> 22929</td>      <th>  BIC:               </th>  <td>7.372e+05</td> \n",
       "</tr>\n",
       "<tr>\n",
       "  <th>Df Model:</th>              <td>     1</td>      <th>                     </th>      <td> </td>     \n",
       "</tr>\n",
       "<tr>\n",
       "  <th>Covariance Type:</th>      <td>nonrobust</td>    <th>                     </th>      <td> </td>     \n",
       "</tr>\n",
       "</table>\n",
       "<table class=\"simpletable\">\n",
       "<tr>\n",
       "      <td></td>         <th>coef</th>     <th>std err</th>      <th>t</th>      <th>P>|t|</th>  <th>[0.025</th>    <th>0.975]</th>  \n",
       "</tr>\n",
       "<tr>\n",
       "  <th>Intercept</th> <td> 8.379e+05</td> <td> 1.63e+04</td> <td>   51.387</td> <td> 0.000</td> <td> 8.06e+05</td> <td>  8.7e+05</td>\n",
       "</tr>\n",
       "<tr>\n",
       "  <th>Traffic</th>   <td> 2.969e+04</td> <td>  4.7e+04</td> <td>    0.632</td> <td> 0.527</td> <td>-6.24e+04</td> <td> 1.22e+05</td>\n",
       "</tr>\n",
       "</table>\n",
       "<table class=\"simpletable\">\n",
       "<tr>\n",
       "  <th>Omnibus:</th>       <td>67916.877</td> <th>  Durbin-Watson:     </th>    <td>   1.716</td>   \n",
       "</tr>\n",
       "<tr>\n",
       "  <th>Prob(Omnibus):</th>  <td> 0.000</td>   <th>  Jarque-Bera (JB):  </th> <td>5027258184.668</td>\n",
       "</tr>\n",
       "<tr>\n",
       "  <th>Skew:</th>           <td>42.442</td>   <th>  Prob(JB):          </th>    <td>    0.00</td>   \n",
       "</tr>\n",
       "<tr>\n",
       "  <th>Kurtosis:</th>      <td>2295.251</td>  <th>  Cond. No.          </th>    <td>    3.12</td>   \n",
       "</tr>\n",
       "</table><br/><br/>Warnings:<br/>[1] Standard Errors assume that the covariance matrix of the errors is correctly specified."
      ],
      "text/plain": [
       "<class 'statsmodels.iolib.summary.Summary'>\n",
       "\"\"\"\n",
       "                            OLS Regression Results                            \n",
       "==============================================================================\n",
       "Dep. Variable:              SalePrice   R-squared:                       0.000\n",
       "Model:                            OLS   Adj. R-squared:                 -0.000\n",
       "Method:                 Least Squares   F-statistic:                    0.3993\n",
       "Date:                Tue, 03 Mar 2020   Prob (F-statistic):              0.527\n",
       "Time:                        11:35:30   Log-Likelihood:            -3.6860e+05\n",
       "No. Observations:               22931   AIC:                         7.372e+05\n",
       "Df Residuals:                   22929   BIC:                         7.372e+05\n",
       "Df Model:                           1                                         \n",
       "Covariance Type:            nonrobust                                         \n",
       "==============================================================================\n",
       "                 coef    std err          t      P>|t|      [0.025      0.975]\n",
       "------------------------------------------------------------------------------\n",
       "Intercept   8.379e+05   1.63e+04     51.387      0.000    8.06e+05     8.7e+05\n",
       "Traffic     2.969e+04    4.7e+04      0.632      0.527   -6.24e+04    1.22e+05\n",
       "==============================================================================\n",
       "Omnibus:                    67916.877   Durbin-Watson:                   1.716\n",
       "Prob(Omnibus):                  0.000   Jarque-Bera (JB):       5027258184.668\n",
       "Skew:                          42.442   Prob(JB):                         0.00\n",
       "Kurtosis:                    2295.251   Cond. No.                         3.12\n",
       "==============================================================================\n",
       "\n",
       "Warnings:\n",
       "[1] Standard Errors assume that the covariance matrix of the errors is correctly specified.\n",
       "\"\"\""
      ]
     },
     "execution_count": 75,
     "metadata": {},
     "output_type": "execute_result"
    }
   ],
   "source": [
    "fsm_df_2 = final_df[[\"SalePrice\", \"Traffic\"]].copy()\n",
    "fsm_2 = ols(formula=\"SalePrice ~ Traffic\", data=fsm_df_2).fit()\n",
    "fsm_2.summary()"
   ]
  },
  {
   "cell_type": "code",
   "execution_count": 57,
   "metadata": {},
   "outputs": [
    {
     "data": {
      "text/plain": [
       "0.0     19915\n",
       "64.0        3\n",
       "60.0        2\n",
       "61.0        2\n",
       "62.0        1\n",
       "Name: AirportNoise, dtype: int64"
      ]
     },
     "execution_count": 57,
     "metadata": {},
     "output_type": "execute_result"
    }
   ],
   "source": [
    "final_df['AirportNoise'].value_counts()"
   ]
  },
  {
   "cell_type": "code",
   "execution_count": 94,
   "metadata": {},
   "outputs": [
    {
     "data": {
      "text/plain": [
       "Series([], Name: PowerLines, dtype: int64)"
      ]
     },
     "execution_count": 94,
     "metadata": {},
     "output_type": "execute_result"
    }
   ],
   "source": [
    "final_df['PowerLines'].value_counts()"
   ]
  },
  {
   "cell_type": "code",
   "execution_count": 92,
   "metadata": {},
   "outputs": [],
   "source": [
    "qpl = (\"\"\"\n",
    "SELECT SalePrice,\n",
    "CASE\n",
    "    WHEN PowerLines == 'Y' THEN 1\n",
    "    ELSE 0\n",
    "END AS power_lines\n",
    "FROM final_df\n",
    "\"\"\")\n",
    "power_lines_df = ps.sqldf(qpl)"
   ]
  },
  {
   "cell_type": "code",
   "execution_count": 93,
   "metadata": {},
   "outputs": [
    {
     "data": {
      "text/plain": [
       "0    22931\n",
       "Name: power_lines, dtype: int64"
      ]
     },
     "execution_count": 93,
     "metadata": {},
     "output_type": "execute_result"
    }
   ],
   "source": [
    "power_lines_df['power_lines'].value_counts()"
   ]
  },
  {
   "cell_type": "code",
   "execution_count": 87,
   "metadata": {},
   "outputs": [],
   "source": [
    "final_df['PowerLines'] = power_lines_df['power_lines']"
   ]
  },
  {
   "cell_type": "code",
   "execution_count": 88,
   "metadata": {},
   "outputs": [
    {
     "data": {
      "text/plain": [
       "Series([], Name: PowerLines, dtype: int64)"
      ]
     },
     "execution_count": 88,
     "metadata": {},
     "output_type": "execute_result"
    }
   ],
   "source": [
    "final_df['PowerLines'].value_counts()"
   ]
  },
  {
   "cell_type": "code",
   "execution_count": null,
   "metadata": {},
   "outputs": [],
   "source": [
    "fsm_df_4 = final_df[[\"SalePrice\", \"Traffic\"]].copy()\n",
    "fsm_4 = ols(formula=\"SalePrice ~ Traffic\", data=fsm_df_4).fit()\n",
    "fsm_4.summary()"
   ]
  },
  {
   "cell_type": "code",
   "execution_count": 55,
   "metadata": {},
   "outputs": [
    {
     "data": {
      "text/plain": [
       "N    19301\n",
       "Y      622\n",
       "Name: OtherNuisances, dtype: int64"
      ]
     },
     "execution_count": 55,
     "metadata": {},
     "output_type": "execute_result"
    }
   ],
   "source": [
    "final_df['OtherNuisances'].value_counts()"
   ]
  },
  {
   "cell_type": "code",
   "execution_count": null,
   "metadata": {},
   "outputs": [],
   "source": []
  }
 ],
 "metadata": {
  "kernelspec": {
   "display_name": "Python 3",
   "language": "python",
   "name": "python3"
  },
  "language_info": {
   "codemirror_mode": {
    "name": "ipython",
    "version": 3
   },
   "file_extension": ".py",
   "mimetype": "text/x-python",
   "name": "python",
   "nbconvert_exporter": "python",
   "pygments_lexer": "ipython3",
   "version": "3.7.4"
  }
 },
 "nbformat": 4,
 "nbformat_minor": 4
}
